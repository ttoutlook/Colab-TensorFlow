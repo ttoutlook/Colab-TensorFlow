{
  "nbformat": 4,
  "nbformat_minor": 0,
  "metadata": {
    "colab": {
      "name": "eager_execution_basics.ipynb",
      "version": "0.3.2",
      "provenance": [],
      "include_colab_link": true
    },
    "kernelspec": {
      "name": "python3",
      "display_name": "Python 3"
    }
  },
  "cells": [
    {
      "cell_type": "markdown",
      "metadata": {
        "id": "view-in-github",
        "colab_type": "text"
      },
      "source": [
        "<a href=\"https://colab.research.google.com/github/ttoutlook/Colab-TensorFlow/blob/master/eager_execution_basics.ipynb\" target=\"_parent\"><img src=\"https://colab.research.google.com/assets/colab-badge.svg\" alt=\"Open In Colab\"/></a>"
      ]
    },
    {
      "cell_type": "code",
      "metadata": {
        "id": "bjGqcfT5D02n",
        "colab_type": "code",
        "colab": {}
      },
      "source": [
        "import tensorflow as tf\n",
        "tf.enable_eager_execution()"
      ],
      "execution_count": 0,
      "outputs": []
    },
    {
      "cell_type": "code",
      "metadata": {
        "id": "JwkBHGMSEW4x",
        "colab_type": "code",
        "outputId": "5d5faeab-6b24-4bde-a66f-9059e4ea1757",
        "colab": {
          "base_uri": "https://localhost:8080/",
          "height": 125
        }
      },
      "source": [
        "print(tf.add(1,2))\n",
        "print(tf.add([1,2],[3,4]))\n",
        "print(tf.square(5))\n",
        "print(tf.reduce_sum([1,2,3]))\n",
        "print(tf.encode_base64('hello world'))\n",
        "\n",
        "# operator overloading is also supported\n",
        "print(tf.square(2) + tf.square(3))"
      ],
      "execution_count": 9,
      "outputs": [
        {
          "output_type": "stream",
          "text": [
            "tf.Tensor(3, shape=(), dtype=int32)\n",
            "tf.Tensor([4 6], shape=(2,), dtype=int32)\n",
            "tf.Tensor(25, shape=(), dtype=int32)\n",
            "tf.Tensor(6, shape=(), dtype=int32)\n",
            "tf.Tensor(b'aGVsbG8gd29ybGQ', shape=(), dtype=string)\n",
            "tf.Tensor(13, shape=(), dtype=int32)\n"
          ],
          "name": "stdout"
        }
      ]
    },
    {
      "cell_type": "code",
      "metadata": {
        "id": "lmbGCT_7HhCA",
        "colab_type": "code",
        "outputId": "af4a88f0-cc5f-443f-a648-b4f9e4748883",
        "colab": {
          "base_uri": "https://localhost:8080/",
          "height": 53
        }
      },
      "source": [
        "x = tf.matmul([[1]],[[2,3]])\n",
        "print(x.shape)\n",
        "print(x.dtype)"
      ],
      "execution_count": 10,
      "outputs": [
        {
          "output_type": "stream",
          "text": [
            "(1, 2)\n",
            "<dtype: 'int32'>\n"
          ],
          "name": "stdout"
        }
      ]
    },
    {
      "cell_type": "code",
      "metadata": {
        "id": "onB_ohHcIeyY",
        "colab_type": "code",
        "colab": {
          "base_uri": "https://localhost:8080/",
          "height": 251
        },
        "outputId": "f52a0dde-5db4-4301-bfde-9e7c76ac1051"
      },
      "source": [
        "import numpy as np\n",
        "\n",
        "ndarray = np.ones([3,3])\n",
        "\n",
        "print('TensorFlow operations convert numpy arrays to Tensors automatically')\n",
        "tensor = tf.multiply(ndarray, 42)\n",
        "print(tensor)\n",
        "\n",
        "print(\"And numpy operations convert Tensors to numpy arrays automatically\")\n",
        "print(np.add(tensor,1))\n",
        "\n",
        "print('The .numpy() method explictly converts a Tensor to a numpy array')\n",
        "print(tensor.numpy())"
      ],
      "execution_count": 11,
      "outputs": [
        {
          "output_type": "stream",
          "text": [
            "TensorFlow operations convert numpy arrays to Tensors automatically\n",
            "tf.Tensor(\n",
            "[[42. 42. 42.]\n",
            " [42. 42. 42.]\n",
            " [42. 42. 42.]], shape=(3, 3), dtype=float64)\n",
            "And numpy operations convert Tensors to numpy arrays automatically\n",
            "[[43. 43. 43.]\n",
            " [43. 43. 43.]\n",
            " [43. 43. 43.]]\n",
            "The .numpy() method explictly converts a Tensor to a numpy array\n",
            "[[42. 42. 42.]\n",
            " [42. 42. 42.]\n",
            " [42. 42. 42.]]\n"
          ],
          "name": "stdout"
        }
      ]
    },
    {
      "cell_type": "code",
      "metadata": {
        "id": "QwtKYtC9aDiq",
        "colab_type": "code",
        "colab": {
          "base_uri": "https://localhost:8080/",
          "height": 89
        },
        "outputId": "b36c7a2c-6c1d-4faa-d0e1-004ebfded336"
      },
      "source": [
        "# GPU acceleration\n",
        "x = tf.random_uniform([3,3])\n",
        "\n",
        "print('Is there a GPU available: ')\n",
        "print(tf.test.is_gpu_available())\n",
        "\n",
        "print('Is the Tensor on GPU #0: ')\n",
        "print(x.device.endswith('GPU:0'))"
      ],
      "execution_count": 12,
      "outputs": [
        {
          "output_type": "stream",
          "text": [
            "Is there a GPU available: \n",
            "False\n",
            "Is the Tensor on GPU #0: \n",
            "False\n"
          ],
          "name": "stdout"
        }
      ]
    }
  ]
}