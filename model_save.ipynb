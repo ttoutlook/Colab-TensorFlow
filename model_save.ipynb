{
  "nbformat": 4,
  "nbformat_minor": 0,
  "metadata": {
    "colab": {
      "name": "model_save.ipynb",
      "version": "0.3.2",
      "provenance": [],
      "include_colab_link": true
    },
    "kernelspec": {
      "name": "python3",
      "display_name": "Python 3"
    }
  },
  "cells": [
    {
      "cell_type": "markdown",
      "metadata": {
        "id": "view-in-github",
        "colab_type": "text"
      },
      "source": [
        "<a href=\"https://colab.research.google.com/github/ttoutlook/Colab-TensorFlow/blob/master/model_save.ipynb\" target=\"_parent\"><img src=\"https://colab.research.google.com/assets/colab-badge.svg\" alt=\"Open In Colab\"/></a>"
      ]
    },
    {
      "cell_type": "code",
      "metadata": {
        "id": "3PAEIoMD5AI_",
        "colab_type": "code",
        "colab": {}
      },
      "source": [
        "import os\n",
        "\n",
        "import tensorflow as tf\n",
        "from tensorflow import keras\n",
        "from google.colab import drive"
      ],
      "execution_count": 0,
      "outputs": []
    },
    {
      "cell_type": "code",
      "metadata": {
        "id": "NlZ_Myn05iyB",
        "colab_type": "code",
        "outputId": "ac5ecde8-8d91-4945-b874-4f08022ac286",
        "colab": {
          "base_uri": "https://localhost:8080/",
          "height": 53
        }
      },
      "source": [
        "(train_images, train_labels), (test_images, test_labels) = tf.keras.datasets.mnist.load_data()\n",
        "\n",
        "train_labels = train_labels[:1000]\n",
        "test_labels = test_labels[:1000]\n",
        "\n",
        "train_images = train_images[:1000].reshape(-1, 28 * 28) / 255.0\n",
        "test_images = test_images[:1000].reshape(-1, 28 * 28) / 255.0"
      ],
      "execution_count": 0,
      "outputs": [
        {
          "output_type": "stream",
          "text": [
            "Downloading data from https://storage.googleapis.com/tensorflow/tf-keras-datasets/mnist.npz\n",
            "11493376/11490434 [==============================] - 0s 0us/step\n"
          ],
          "name": "stdout"
        }
      ]
    },
    {
      "cell_type": "code",
      "metadata": {
        "id": "-M83nWtB5kub",
        "colab_type": "code",
        "outputId": "7a0f9378-9377-48fb-f1e1-830fea781d93",
        "colab": {
          "base_uri": "https://localhost:8080/",
          "height": 379
        }
      },
      "source": [
        "# Returns a short sequential model\n",
        "def create_model():\n",
        "  model = tf.keras.models.Sequential([\n",
        "    keras.layers.Dense(512, activation=tf.keras.activations.relu, input_shape=(784,)),\n",
        "    keras.layers.Dropout(0.2),\n",
        "    keras.layers.Dense(10, activation=tf.keras.activations.softmax)\n",
        "  ])\n",
        "\n",
        "  model.compile(optimizer=tf.keras.optimizers.Adam(),\n",
        "                loss=tf.keras.losses.sparse_categorical_crossentropy,\n",
        "                metrics=['accuracy'])\n",
        "\n",
        "  return model\n",
        "\n",
        "\n",
        "# Create a basic model instance\n",
        "model = create_model()\n",
        "model.summary()"
      ],
      "execution_count": 0,
      "outputs": [
        {
          "output_type": "stream",
          "text": [
            "WARNING:tensorflow:From /usr/local/lib/python3.6/dist-packages/tensorflow/python/ops/resource_variable_ops.py:435: colocate_with (from tensorflow.python.framework.ops) is deprecated and will be removed in a future version.\n",
            "Instructions for updating:\n",
            "Colocations handled automatically by placer.\n",
            "WARNING:tensorflow:From /usr/local/lib/python3.6/dist-packages/tensorflow/python/keras/layers/core.py:143: calling dropout (from tensorflow.python.ops.nn_ops) with keep_prob is deprecated and will be removed in a future version.\n",
            "Instructions for updating:\n",
            "Please use `rate` instead of `keep_prob`. Rate should be set to `rate = 1 - keep_prob`.\n",
            "_________________________________________________________________\n",
            "Layer (type)                 Output Shape              Param #   \n",
            "=================================================================\n",
            "dense (Dense)                (None, 512)               401920    \n",
            "_________________________________________________________________\n",
            "dropout (Dropout)            (None, 512)               0         \n",
            "_________________________________________________________________\n",
            "dense_1 (Dense)              (None, 10)                5130      \n",
            "=================================================================\n",
            "Total params: 407,050\n",
            "Trainable params: 407,050\n",
            "Non-trainable params: 0\n",
            "_________________________________________________________________\n"
          ],
          "name": "stdout"
        }
      ]
    },
    {
      "cell_type": "code",
      "metadata": {
        "id": "Rx2GtP1z5nz6",
        "colab_type": "code",
        "outputId": "2783786a-def3-4b86-fe7a-5a0f025de90f",
        "colab": {
          "base_uri": "https://localhost:8080/",
          "height": 413
        }
      },
      "source": [
        "drive.mount('/content/gdrive')\n",
        "checkpoint_dir = os.path.dirname(checkpoint_path)\n",
        "# Create checkpoint callback\n",
        "model = create_model()\n",
        "\n",
        "model.fit(train_images, train_labels,  epochs = 10,\n",
        "          validation_data = (test_images,test_labels))  # pass callback to training\n",
        "\n",
        "model.save('/content/gdrive/My Drive/tensorflow_learn/save/mnist_model.h5')\n",
        "# This may generate warnings related to saving the state of the optimizer.\n",
        "# These warnings (and similar warnings throughout this notebook)\n",
        "# are in place to discourage outdated usage, and can be ignored."
      ],
      "execution_count": 0,
      "outputs": [
        {
          "output_type": "stream",
          "text": [
            "Drive already mounted at /content/gdrive; to attempt to forcibly remount, call drive.mount(\"/content/gdrive\", force_remount=True).\n",
            "Train on 1000 samples, validate on 1000 samples\n",
            "Epoch 1/10\n",
            "1000/1000 [==============================] - 1s 569us/sample - loss: 1.1716 - acc: 0.6560 - val_loss: 0.7183 - val_acc: 0.7840\n",
            "Epoch 2/10\n",
            "1000/1000 [==============================] - 0s 303us/sample - loss: 0.4205 - acc: 0.8810 - val_loss: 0.5259 - val_acc: 0.8390\n",
            "Epoch 3/10\n",
            "1000/1000 [==============================] - 0s 309us/sample - loss: 0.2995 - acc: 0.9120 - val_loss: 0.4722 - val_acc: 0.8510\n",
            "Epoch 4/10\n",
            "1000/1000 [==============================] - 0s 310us/sample - loss: 0.2127 - acc: 0.9560 - val_loss: 0.4208 - val_acc: 0.8620\n",
            "Epoch 5/10\n",
            "1000/1000 [==============================] - 0s 299us/sample - loss: 0.1676 - acc: 0.9590 - val_loss: 0.4410 - val_acc: 0.8540\n",
            "Epoch 6/10\n",
            "1000/1000 [==============================] - 0s 294us/sample - loss: 0.1226 - acc: 0.9720 - val_loss: 0.4406 - val_acc: 0.8520\n",
            "Epoch 7/10\n",
            "1000/1000 [==============================] - 0s 289us/sample - loss: 0.0938 - acc: 0.9830 - val_loss: 0.3970 - val_acc: 0.8660\n",
            "Epoch 8/10\n",
            "1000/1000 [==============================] - 0s 278us/sample - loss: 0.0633 - acc: 0.9920 - val_loss: 0.4067 - val_acc: 0.8670\n",
            "Epoch 9/10\n",
            "1000/1000 [==============================] - 0s 295us/sample - loss: 0.0437 - acc: 0.9980 - val_loss: 0.3940 - val_acc: 0.8700\n",
            "Epoch 10/10\n",
            "1000/1000 [==============================] - 0s 285us/sample - loss: 0.0372 - acc: 0.9990 - val_loss: 0.4007 - val_acc: 0.8710\n"
          ],
          "name": "stdout"
        }
      ]
    },
    {
      "cell_type": "code",
      "metadata": {
        "id": "pFKVwI-55qAo",
        "colab_type": "code",
        "outputId": "65462af5-4528-4761-bec6-3b323ae0bae7",
        "colab": {
          "base_uri": "https://localhost:8080/",
          "height": 35
        }
      },
      "source": [
        "!ls {checkpoint_dir}"
      ],
      "execution_count": 0,
      "outputs": [
        {
          "output_type": "stream",
          "text": [
            "'My Drive'\n"
          ],
          "name": "stdout"
        }
      ]
    }
  ]
}